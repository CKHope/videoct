{
 "cells": [
  {
   "attachments": {},
   "cell_type": "markdown",
   "metadata": {},
   "source": [
    "# wma files to 128kps mp3 files"
   ]
  },
  {
   "cell_type": "code",
   "execution_count": null,
   "metadata": {},
   "outputs": [],
   "source": [
    "import os\n",
    "import ffmpeg\n",
    "from concurrent import futures\n",
    "\n",
    "def convert_wma_to_mp3(wma_file_path):\n",
    "    mp3_file_path = os.path.splitext(wma_file_path)[0] + '.mp3'\n",
    "    print(\"Converting:\", wma_file_path)\n",
    "    (\n",
    "        ffmpeg\n",
    "        .input(wma_file_path)\n",
    "        .output(mp3_file_path, format='mp3',audio_bitrate='128k')\n",
    "        .run(overwrite_output=True, quiet=True)\n",
    "    )\n",
    "    print(\"DONE:\", wma_file_path)\n",
    "\n",
    "def convert_wma_files_parallel(folder_path):\n",
    "    # Get a list of all WMA files in the folder and subfolders\n",
    "    wma_files = []\n",
    "    for root, dirs, files in os.walk(folder_path):\n",
    "        for file_name in files:\n",
    "            if file_name.endswith(\".wma\"):\n",
    "                wma_file_path = os.path.join(root, file_name)\n",
    "                wma_files.append(wma_file_path)\n",
    "\n",
    "    # Convert WMA files to MP3 using concurrent.futures\n",
    "    with futures.ThreadPoolExecutor() as executor:\n",
    "        executor.map(convert_wma_to_mp3, wma_files)\n",
    "\n",
    "    print(\"All files converted.\")\n",
    "\n",
    "# Usage example\n",
    "folder_path = r\"C:\\Users\\Admin\\Downloads\\MHFH\"\n",
    "convert_wma_files_parallel(folder_path)\n"
   ]
  },
  {
   "attachments": {},
   "cell_type": "markdown",
   "metadata": {},
   "source": [
    "# mp3 to 128kps mp3 files"
   ]
  },
  {
   "cell_type": "code",
   "execution_count": null,
   "metadata": {},
   "outputs": [],
   "source": [
    "import os\n",
    "import ffmpeg\n",
    "from concurrent import futures\n",
    "\n",
    "def convert_mp3_to_128kbps(mp3_file_path):\n",
    "    output_file_path = os.path.splitext(mp3_file_path)[0] + '_128kbps.mp3'\n",
    "    print(\"Converting:\", mp3_file_path)\n",
    "    (\n",
    "        ffmpeg\n",
    "        .input(mp3_file_path)\n",
    "        .output(output_file_path, format='mp3', audio_bitrate='32k')\n",
    "        .run(overwrite_output=True, quiet=True)\n",
    "    )\n",
    "    print(\"DONE:\", mp3_file_path)\n",
    "\n",
    "def convert_mp3_files_to_128kbps(folder_path):\n",
    "    # Get a list of all MP3 files in the folder and subfolders\n",
    "    mp3_files = []\n",
    "    for root, dirs, files in os.walk(folder_path):\n",
    "        for file_name in files:\n",
    "            if file_name.endswith(\".mp3\"):\n",
    "                mp3_file_path = os.path.join(root, file_name)\n",
    "                mp3_files.append(mp3_file_path)\n",
    "\n",
    "    # Convert MP3 files to 128kbps using concurrent.futures\n",
    "    with futures.ThreadPoolExecutor() as executor:\n",
    "        executor.map(convert_mp3_to_128kbps, mp3_files)\n",
    "\n",
    "    print(\"All files converted.\")\n",
    "\n",
    "# Usage example\n",
    "folder_path = r\"C:\\Users\\Admin\\Downloads\\MHFH\\18\"\n",
    "convert_mp3_files_to_128kbps(folder_path)\n"
   ]
  }
 ],
 "metadata": {
  "kernelspec": {
   "display_name": "Python 3",
   "language": "python",
   "name": "python3"
  },
  "language_info": {
   "codemirror_mode": {
    "name": "ipython",
    "version": 3
   },
   "file_extension": ".py",
   "mimetype": "text/x-python",
   "name": "python",
   "nbconvert_exporter": "python",
   "pygments_lexer": "ipython3",
   "version": "3.11.0"
  },
  "orig_nbformat": 4
 },
 "nbformat": 4,
 "nbformat_minor": 2
}
